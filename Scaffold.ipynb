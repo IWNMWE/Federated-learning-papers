{
  "cells": [
    {
      "cell_type": "code",
      "execution_count": null,
      "metadata": {
        "id": "FrzD3FFgwDk8"
      },
      "outputs": [],
      "source": [
        "import tensorflow as tf\n",
        "import tensorflow_datasets as tfds\n",
        "import numpy as np\n",
        "from tensorflow.keras.datasets import mnist"
      ]
    },
    {
      "cell_type": "code",
      "source": [
        "from sklearn.model_selection import KFold\n",
        "from tensorflow.keras.datasets import mnist\n",
        "from tensorflow.keras.utils import to_categorical\n",
        "from tensorflow.keras.models import Sequential\n",
        "from tensorflow.keras.layers import Conv2D\n",
        "from tensorflow.keras.layers import MaxPooling2D\n",
        "from tensorflow.keras.layers import Dense\n",
        "from tensorflow.keras.layers import Flatten\n",
        "from tensorflow.keras.optimizers import SGD\n",
        "import tensorflow_datasets as tfds"
      ],
      "metadata": {
        "id": "qOGT01ZEZ5JQ"
      },
      "execution_count": null,
      "outputs": []
    },
    {
      "cell_type": "code",
      "source": [
        "tf.random.set_seed(\n",
        "    1\n",
        ")\n"
      ],
      "metadata": {
        "id": "L5GSAdtswrnw"
      },
      "execution_count": null,
      "outputs": []
    },
    {
      "cell_type": "code",
      "source": [
        "def load_model(model_path):\n",
        "    model = Sequential()\n",
        "    model.add(Flatten(input_shape=(28, 28)))\n",
        "    model.add(Dense(128, activation='relu', kernel_initializer='he_uniform', kernel_regularizer=tf.keras.regularizers.l2(0.001)))\n",
        "    model.add(Dense(10, activation='softmax', kernel_regularizer=tf.keras.regularizers.l2(0.001)))\n",
        "\n",
        "    return model"
      ],
      "metadata": {
        "id": "dyhgThlERhsZ"
      },
      "execution_count": null,
      "outputs": []
    },
    {
      "cell_type": "code",
      "source": [
        "def load_model(model_path):\n",
        "    model = Sequential()\n",
        "    model.add(Flatten(input_shape=(28, 28)))\n",
        "    model.add(Dense(128, activation='relu'))\n",
        "    model.add(Dense(10, activation='softmax'))\n",
        "\n",
        "    return model"
      ],
      "metadata": {
        "id": "djuLgJBCXynt"
      },
      "execution_count": null,
      "outputs": []
    },
    {
      "cell_type": "code",
      "source": [
        "def load_model(model_path):\n",
        "\n",
        "    img_inputs = tf.keras.Input(shape=(32, 32, 3))\n",
        "    conv = Conv2D(64, kernel_size=(5, 5), strides = (2, 2))(tf.pad(img_inputs, ((0, 0), (3, 3), (3, 3), (0, 0))))\n",
        "    norm = tf.keras.layers.BatchNormalization()(conv)\n",
        "    act = tf.keras.layers.Activation(\"relu\")(norm)\n",
        "    mxpool = MaxPooling2D(pool_size=(2, 2))(act)\n",
        "    conv1 = Conv2D(64, kernel_size=(5, 5),strides = (2, 2))(tf.pad(mxpool, ((0, 0), (3, 3), (3, 3), (0, 0))))\n",
        "    norm1 = tf.keras.layers.BatchNormalization()(conv1)\n",
        "    act1 = tf.keras.layers.Activation(\"relu\")(norm1)\n",
        "    mxpool1 = MaxPooling2D(pool_size=(2, 2))(act1)\n",
        "    conv2 = Conv2D(64, kernel_size=(5, 5),strides = (2, 2))(tf.pad(mxpool1, ((0, 0), (3, 3), (3, 3), (0, 0))))\n",
        "    norm2 = tf.keras.layers.BatchNormalization()(conv2)\n",
        "    act2 = tf.keras.layers.Activation(\"relu\")(norm2)\n",
        "    mxpool2 = MaxPooling2D(pool_size=(2, 2))(act2)\n",
        "    flatten = Flatten()(norm2)\n",
        "    dense = Dense(2048)(flatten)\n",
        "    norm3 = tf.keras.layers.BatchNormalization()(dense)\n",
        "    dense1 = Dense(512)(norm3)\n",
        "    norm4 = tf.keras.layers.BatchNormalization()(dense1)\n",
        "    dense2 = Dense(10, activation='softmax')(norm4)\n",
        "    model = tf.keras.Model(inputs=img_inputs, outputs=dense2, name=\"svhn_model\")\n",
        "\n",
        "\n",
        "    return model"
      ],
      "metadata": {
        "id": "OdjZl2rWjqwo"
      },
      "execution_count": null,
      "outputs": []
    },
    {
      "cell_type": "code",
      "source": [
        "# Load train and test dataset\n",
        "def load_dataset():\n",
        "    # load dataset\n",
        "    (trainX, trainY), (testX, testY) = mnist.load_data()\n",
        "    # reshape dataset to have a single channel\n",
        "    trainX = trainX.reshape((trainX.shape[0], 28, 28, 1))\n",
        "    testX = testX.reshape((testX.shape[0], 28, 28, 1))\n",
        "    # one hot encode target values\n",
        "    trainY = to_categorical(trainY)\n",
        "    testY = to_categorical(testY)\n",
        "\n",
        "    random_indices = np.random.choice(len(trainX), 10016, replace=False)\n",
        "\n",
        "    # Select the subset of data and labels\n",
        "    subset_X = trainX[random_indices]\n",
        "    subset_Y = trainY[random_indices]\n",
        "    return subset_X, subset_Y, testX, testY"
      ],
      "metadata": {
        "id": "HZ2i_7zJRj1B"
      },
      "execution_count": null,
      "outputs": []
    },
    {
      "cell_type": "code",
      "source": [
        "# Load train and test dataset\n",
        "def load_dataset():\n",
        "\n",
        "    (train_image, train_label) = tfds.as_numpy(tfds.load('svhn_cropped', split='train',batch_size=-1 ,shuffle_files=True, as_supervised=True))\n",
        "    (test_image, test_label) = tfds.as_numpy(tfds.load('svhn_cropped', split='test',batch_size=-1 ,shuffle_files=True, as_supervised=True))\n",
        "    trainX = []\n",
        "    trainY = []\n",
        "    C = tf.constant(10, name = \"C\")\n",
        "    one_hot_train = tf.one_hot(\n",
        "    train_label, C, on_value = 1.0, off_value = 0.0, axis =-1)\n",
        "    one_hot_test = tf.one_hot(\n",
        "    test_label, C, on_value = 1.0, off_value = 0.0, axis =-1)\n",
        "    for i in range(0,6):\n",
        "      trainX.append(train_image[i * int(20000 / 6) : (i + 1) * int(20000 / 6)])\n",
        "      trainY.append(one_hot_train[i * int(20000 / 6) : (i + 1) * int(20000 / 6)])\n",
        "\n",
        "    return trainX, trainY, test_image, one_hot_test\n"
      ],
      "metadata": {
        "id": "rjHl07dE5dt3"
      },
      "execution_count": null,
      "outputs": []
    },
    {
      "cell_type": "code",
      "source": [
        "# scale pixels\n",
        "def prep_pixels(train, test):\n",
        " # convert from integers to floats\n",
        " train_norm = train.astype('float32')\n",
        " test_norm = test.astype('float32')\n",
        " # normalize to range 0-1\n",
        " train_norm = train_norm / 255.0\n",
        " test_norm = test_norm / 255.0\n",
        " # return normalized images\n",
        " return train_norm, test_norm"
      ],
      "metadata": {
        "id": "3DIvFPevR2PD"
      },
      "execution_count": null,
      "outputs": []
    },
    {
      "cell_type": "code",
      "source": [
        "trainX, trainY, testX, testY = load_dataset()\n",
        "\n"
      ],
      "metadata": {
        "id": "snuHuzgSpezW"
      },
      "execution_count": null,
      "outputs": []
    },
    {
      "cell_type": "code",
      "source": [
        "def get_non_bn_weights(model):\n",
        "  non_bn_weights = []\n",
        "  for layer in model.layers:\n",
        "    # Check if the layer is not a BatchNormalization layer\n",
        "    if not isinstance(layer, tf.keras.layers.BatchNormalization):\n",
        "        # Get the layer weights\n",
        "        weights = layer.get_weights()\n",
        "        # If the layer has weights, add them to the non_bn_weights list\n",
        "        if len(weights) > 0:\n",
        "            non_bn_weights.extend(weights)\n",
        "  return non_bn_weights\n"
      ],
      "metadata": {
        "id": "-vzWADTuSC34"
      },
      "execution_count": null,
      "outputs": []
    },
    {
      "cell_type": "code",
      "source": [
        "def set_non_bn_weights(model, new_weights):\n",
        "    weight_index = 0\n",
        "\n",
        "    # Iterate through the layers of the model\n",
        "    for layer in model.layers:\n",
        "        # Check if the layer is not a BatchNormalization layer\n",
        "        if not isinstance(layer, tf.keras.layers.BatchNormalization):\n",
        "            # Get the layer weights\n",
        "            weights = layer.get_weights()\n",
        "            # If the layer has weights, set them with the new weights from the list\n",
        "            if len(weights) > 0:\n",
        "                # Set the layer weights with the new weights from the list\n",
        "                layer.set_weights([new_weights[weight_index], new_weights[weight_index + 1]])\n",
        "                # Move to the next set of new weights and biases\n",
        "                weight_index += 2\n"
      ],
      "metadata": {
        "id": "9YtxwtiNa14r"
      },
      "execution_count": null,
      "outputs": []
    },
    {
      "cell_type": "code",
      "source": [
        "def initializeC():\n",
        "  model = load_model(\"\")\n",
        "  C = get_non_bn_weights(model)\n",
        "  for i in C:\n",
        "      i.fill(0)\n",
        "  return C"
      ],
      "metadata": {
        "id": "M7OIEzOScJXP"
      },
      "execution_count": null,
      "outputs": []
    },
    {
      "cell_type": "code",
      "source": [
        "def initializeC():\n",
        "  model = load_model(\"\")\n",
        "  C = model.get_weights()\n",
        "  for i in C:\n",
        "    i.fill(0)\n",
        "  return C"
      ],
      "metadata": {
        "id": "fNU291vi42qD"
      },
      "execution_count": null,
      "outputs": []
    },
    {
      "cell_type": "code",
      "source": [
        "model = load_model(\"\")\n",
        "set_non_bn_weights(model,get_non_bn_weights(model))"
      ],
      "metadata": {
        "id": "mt1gU8QgqrxM"
      },
      "execution_count": null,
      "outputs": []
    },
    {
      "cell_type": "code",
      "source": [
        "class ClientScaffold:\n",
        "    def __init__(self, trainX, trainY, testX,\n",
        "                 testY, batchSize, model,\n",
        "                 loss, metrics, lr, optim=tf.keras.optimizers.legacy.SGD()):\n",
        "\n",
        "        self.model = model\n",
        "        self.c = self.initializeC()\n",
        "        self.cPlus = self.initializeC()\n",
        "        self.trainX = trainX\n",
        "        self.trainY = trainY\n",
        "        self.testX = testX\n",
        "        self.testY = testY\n",
        "        self.batch = batchSize\n",
        "        self.lr = float(lr)\n",
        "        self.losses = loss\n",
        "        self.metrics = metrics\n",
        "        self.optim = optim\n",
        "        self.optim.learning_rate = self.lr\n",
        "\n",
        "    def train(self, C, Global):\n",
        "        self.model.compile(optimizer=self.optim,\n",
        "                           loss=self.losses, metrics=self.metrics)\n",
        "        self.model.set_weights(Global)\n",
        "        num_batches = len(self.trainX) // self.batch\n",
        "\n",
        "        # Split the data into batches\n",
        "        batches = np.array_split(self.trainX, self.batch)\n",
        "        batchesY = np.array_split(self.trainY, self.batch)\n",
        "        remaining_data = self.trainX[num_batches * self.batch:]\n",
        "        if len(remaining_data) > 0:\n",
        "            batches.append(remaining_data)\n",
        "            batchesY.append(self.trainY[num_batches * self.batch:])\n",
        "\n",
        "        for i in range(0, len(batches)):\n",
        "            self.model.fit(\n",
        "                batches[i], batchesY[i], verbose=0\n",
        "            )\n",
        "            weights = list(self.model.get_weights())\n",
        "            for i in range(0, len(Global)):\n",
        "                weights[i] += (1 / (len(batches) * self.lr)) * \\\n",
        "                    (C[i] - self.c[i])\n",
        "            self.model.set_weights(weights)\n",
        "        prit(\"Client\",numpy.isnan(myarray).any(),\"\\n\")\n",
        "        weights = list(self.model.get_weights())\n",
        "        delta_weights = list(weights)\n",
        "        delta_C = list(self.cPlus)\n",
        "        for i in range(0, len(weights)):\n",
        "            self.cPlus[i] = self.c[i] - C[i] + (1 / ((1 / (len(batches) * self.lr))\n",
        "                                                     * (len(self.trainX) / self.batch))) * (Global[i] - weights[i])\n",
        "            delta_weights[i] -= Global[i]\n",
        "            delta_C[i] = self.cPlus[i] - self.c[i]\n",
        "        self.c = list(self.cPlus)\n",
        "\n",
        "        return delta_weights, delta_C, len(self.trainX)\n",
        "\n",
        "    def initializeC(self):\n",
        "        C = self.model.get_weights()\n",
        "        for i in C:\n",
        "            i.fill(0)\n",
        "        return C\n"
      ],
      "metadata": {
        "id": "IKWotlzCI2P1"
      },
      "execution_count": null,
      "outputs": []
    },
    {
      "cell_type": "code",
      "source": [
        "class Server:\n",
        "  def __init__(self, global_lr, clients_num):\n",
        "    self.C = initializeC()\n",
        "    self.global_model = load_model(model_path = \" \")\n",
        "    self.global_model.compile(\n",
        "    optimizer=tf.keras.optimizers.SGD(0.001),\n",
        "    loss=tf.keras.losses.CategoricalCrossentropy(from_logits=True),\n",
        "    metrics=[tf.keras.metrics.CategoricalAccuracy()],\n",
        "    )\n",
        "    self.global_lr = global_lr\n",
        "    self.clients_num = clients_num\n",
        "  def initiate(self):\n",
        "    self.clients = []\n",
        "    optim = tf.keras.optimizers.legacy.SGD()\n",
        "    for i in range(0,self.clients_num):\n",
        "      self.clients.append(ClientScaffold(trainX[i], trainY[i], testX, testY, 32\n",
        "                                         ,load_model(\"\")\n",
        "                                         ,tf.keras.losses.CategoricalCrossentropy(from_logits=True)\n",
        "                                         ,[tf.keras.metrics.CategoricalAccuracy()]\n",
        "                                         , 0.01,optim))\n",
        "  def train(self, rounds):\n",
        "      weights = self.global_model.get_weights()\n",
        "      c_temp = initializeC()\n",
        "      for j in range(0,rounds):\n",
        "        for client in self.clients:\n",
        "             [delta_weights , delta_c , num_val] = client.train(self.C , self.global_model.get_weights())\n",
        "             for i in range(0 , len(weights)):\n",
        "                  weights[i] = weights[i] + (delta_weights[i] * (self.global_lr  /float(self.clients_num)))\n",
        "                  c_temp[i] = c_temp[i] + delta_c[i] * (1.0 / self.clients_num)\n",
        "        self.global_model.set_weights(weights)\n",
        "        print(\"Global:\",self.global_model.evaluate(testX, testY),\"\\n\")\n"
      ],
      "metadata": {
        "id": "c6K-iHbeZ78N"
      },
      "execution_count": null,
      "outputs": []
    },
    {
      "cell_type": "code",
      "source": [
        "server = Server(1, 6)"
      ],
      "metadata": {
        "id": "fsPvRwh0i7hz"
      },
      "execution_count": null,
      "outputs": []
    },
    {
      "cell_type": "code",
      "source": [
        "server.initiate()"
      ],
      "metadata": {
        "id": "f3JEu7eio3Cj"
      },
      "execution_count": null,
      "outputs": []
    },
    {
      "cell_type": "code",
      "source": [
        "server.train(10)"
      ],
      "metadata": {
        "id": "p4XDbgImo66a"
      },
      "execution_count": null,
      "outputs": []
    },
    {
      "cell_type": "code",
      "source": [
        "categories = {'0' : [0,0,0,0,0,0],'1' : [0,0,0,0,0,0],'2' : [0,0,0,0,0,0],'3' :[0,0,0,0,0,0],'4' : [0,0,0,0,0,0],'5' : [0,0,0,0,0,0],'6' : [0,0,0,0,0,0],'7' : [0,0,0,0,0,0] ,'8' : [0,0,0,0,0,0],'9' : [0,0,0,0,0,0]}\n",
        "for i in range (0,6):\n",
        "  for j in trainY[i]:\n",
        "    for k in range(0,10):\n",
        "      if (j[k] == 1):\n",
        "        categories[str(k)][i]  = categories[str(k)][i] + 1"
      ],
      "metadata": {
        "id": "2BlKvoB4tihe"
      },
      "execution_count": null,
      "outputs": []
    },
    {
      "cell_type": "code",
      "source": [
        "categories"
      ],
      "metadata": {
        "colab": {
          "base_uri": "https://localhost:8080/"
        },
        "id": "cYQ1Nqe8w0yb",
        "outputId": "1f3c9883-f0df-4e77-dded-07877bbbe378"
      },
      "execution_count": null,
      "outputs": [
        {
          "output_type": "execute_result",
          "data": {
            "text/plain": [
              "{'0': [830, 812, 802, 813, 851, 840],\n",
              " '1': [2317, 2265, 2317, 2308, 2355, 2299],\n",
              " '2': [1698, 1721, 1798, 1759, 1800, 1809],\n",
              " '3': [1444, 1457, 1395, 1390, 1424, 1387],\n",
              " '4': [1288, 1285, 1247, 1220, 1206, 1212],\n",
              " '5': [1120, 1155, 1168, 1129, 1126, 1183],\n",
              " '6': [909, 948, 963, 983, 940, 984],\n",
              " '7': [953, 932, 926, 978, 912, 893],\n",
              " '8': [860, 861, 798, 826, 861, 838],\n",
              " '9': [790, 773, 795, 803, 734, 764]}"
            ]
          },
          "metadata": {},
          "execution_count": 22
        }
      ]
    },
    {
      "cell_type": "code",
      "source": [
        "actual = []\n",
        "for i in range(0,10):\n",
        "  actual.append(categories[str(i)])\n",
        "actual =np.array(actual)\n"
      ],
      "metadata": {
        "id": "NbDZJAKxzJdP"
      },
      "execution_count": null,
      "outputs": []
    },
    {
      "cell_type": "code",
      "source": [
        "import matplotlib.pyplot as plt"
      ],
      "metadata": {
        "id": "DH5vumfjxA18"
      },
      "execution_count": null,
      "outputs": []
    },
    {
      "cell_type": "code",
      "source": [
        "barWidth = 0.05\n",
        "fig = plt.subplots(figsize =(20, 8))\n",
        "\n",
        "\n",
        "# Set position of bar on X axis\n",
        "br1 = np.arange(len(actual[0]))\n",
        "br2 = [x + barWidth for x in br1]\n",
        "br3 = [x + barWidth for x in br2]\n",
        "br4 = [x + barWidth for x in br3]\n",
        "br5 = [x + barWidth for x in br4]\n",
        "br6 = [x + barWidth for x in br5]\n",
        "br7 = [x + barWidth for x in br6]\n",
        "br8 = [x + barWidth for x in br7]\n",
        "br9 = [x + barWidth for x in br8]\n",
        "br10 = [x + barWidth for x in br9]\n",
        "\n",
        "\n",
        "# Make the plot\n",
        "plt.bar(br1, actual[0], color ='r', width = barWidth,\n",
        "        edgecolor ='grey', label ='0')\n",
        "plt.bar(br2, actual[1], color ='g', width = barWidth,\n",
        "        edgecolor ='grey', label ='1')\n",
        "plt.bar(br3, actual[2], color ='b', width = barWidth,\n",
        "        edgecolor ='grey', label ='2')\n",
        "plt.bar(br4, actual[3], color ='r', width = barWidth,\n",
        "        edgecolor ='grey', label ='3')\n",
        "plt.bar(br5, actual[4], color ='g', width = barWidth,\n",
        "        edgecolor ='grey', label ='4')\n",
        "plt.bar(br6, actual[5], color ='b', width = barWidth,\n",
        "        edgecolor ='grey', label ='5')\n",
        "plt.bar(br7, actual[6], color ='r', width = barWidth,\n",
        "        edgecolor ='grey', label ='6')\n",
        "plt.bar(br8, actual[7], color ='g', width = barWidth,\n",
        "        edgecolor ='grey', label ='7')\n",
        "plt.bar(br9, actual[8], color ='b', width = barWidth,\n",
        "        edgecolor ='grey', label ='8')\n",
        "plt.bar(br10, actual[9], color ='r', width = barWidth,\n",
        "        edgecolor ='grey', label ='9')\n",
        "\n",
        "# Adding Xticks\n",
        "plt.xlabel('Client', fontweight ='bold', fontsize = 15)\n",
        "plt.ylabel('Datapoints', fontweight ='bold', fontsize = 15)\n",
        "\n",
        "\n",
        "plt.legend()\n",
        "plt.show()"
      ],
      "metadata": {
        "colab": {
          "base_uri": "https://localhost:8080/",
          "height": 702
        },
        "id": "mEsbCUKeytuj",
        "outputId": "e63c4c13-1c9e-441d-90d8-78873c558740"
      },
      "execution_count": null,
      "outputs": [
        {
          "output_type": "display_data",
          "data": {
            "text/plain": [
              "<Figure size 2000x800 with 1 Axes>"
            ],
            "image/png": "[encoded data removed]"
          },
          "metadata": {}
        }
      ]
    },
    {
      "cell_type": "code",
      "source": [
        "scaffold_nreg = [0.9363999962806702,0.9559000134468079,0.9632999897003174,0.9664999842643738,0.9706000089645386,0.9733999967575073]\n",
        "SGD = [0.9463,0.9588,0.9693,0.9714,0.9735,0.9749]\n",
        "x = [i for i in range(1,7)]\n",
        "plt.plot(x, SGD)\n",
        "plt.plot(x, scaffold_nreg, '-.')\n",
        "plt.xlabel(\"epochs/rounds\")\n",
        "plt.ylabel(\"accuracy %\")\n",
        "plt.title('Scaffold vs SGD')\n",
        "plt.show()"
      ],
      "metadata": {
        "colab": {
          "base_uri": "https://localhost:8080/",
          "height": 472
        },
        "id": "mCt_bTGPXjwX",
        "outputId": "543b498c-fa65-47a8-ebc0-eb77fe459e42"
      },
      "execution_count": null,
      "outputs": [
        {
          "output_type": "display_data",
          "data": {
            "text/plain": [
              "<Figure size 640x480 with 1 Axes>"
            ],
            "image/png": "[encoded data removed]"
          },
          "metadata": {}
        }
      ]
    },
    {
      "cell_type": "code",
      "source": [
        "    #bare bones SGD with scaffold updates using gradient tape (Similar to pytorch)\n",
        "\n",
        "    ##loss_fn = tf.keras.losses.CategoricalCrossentropy(from_logits=True)\n",
        "    ##optimizer = tf.keras.optimizers.SGD(learning_rate=1e-3)\n",
        "    ##train_acc_metric = tf.keras.metrics.CategoricalAccuracy()\n",
        "    ##val_acc_metric = tf.keras.metrics.CategoricalAccuracy()\n",
        "    ##for i in range(0,len(self.trainX)):\n",
        "    ## with tf.GradientTape() as tape:\n",
        "    ##    logits = self.model(self.trainX[i], training=True)\n",
        "    ##    loss_value = loss_fn(self.trainY[i], logits)\n",
        "    ## grads = tape.gradient(loss_value, self.model.trainable_weights)\n",
        "    ## for i in range (0 , len(Global)):\n",
        "    ##    grads[i] += 1e-3 * (C[i] - self.c[i])\n",
        "    ## optimizer.apply_gradients(zip(grads, self.model.trainable_weights))\n",
        "\n",
        "\n",
        "\n",
        "        ##val_logits = self.model(self.testX, training=False)\n",
        "        # Update val metrics\n",
        "    ##val_acc_metric.update_state(self.testY, val_logits)\n",
        "    ##val_acc = val_acc_metric.result()\n",
        "    ##print(\"Client : Validation acc: %.4f\" % (float(val_acc),))\n",
        "    ##val_acc_metric.reset_states()\n",
        "    ##results = self.model.evaluate(self.testX , self.testY, batch_size=128)"
      ],
      "metadata": {
        "id": "J-zTFszMA7cu"
      },
      "execution_count": null,
      "outputs": []
    },
    {
      "cell_type": "code",
      "source": [
        "# prompt: write import code for pytorch\n",
        "import os\n",
        "import torch\n",
        "from torch import nn\n",
        "from torch.utils.data import DataLoader\n",
        "from torchvision import datasets, transforms\n",
        "import torch.nn.functional as F\n"
      ],
      "metadata": {
        "id": "8QS4iYr_MEgZ"
      },
      "execution_count": null,
      "outputs": []
    },
    {
      "cell_type": "code",
      "source": [
        "device = (\n",
        "    \"cuda\"\n",
        "    if torch.cuda.is_available()\n",
        "    else \"mps\"\n",
        "    if torch.backends.mps.is_available()\n",
        "    else \"cpu\"\n",
        ")\n",
        "print(f\"Using {device} device\")"
      ],
      "metadata": {
        "colab": {
          "base_uri": "https://localhost:8080/"
        },
        "id": "EH7uLZgtM1jT",
        "outputId": "05cb6373-a720-4e9b-f141-5571ca67a7ac"
      },
      "execution_count": null,
      "outputs": [
        {
          "output_type": "stream",
          "name": "stdout",
          "text": [
            "Using cuda device\n"
          ]
        }
      ]
    },
    {
      "cell_type": "code",
      "source": [
        "class NeuralNetwork(nn.Module):\n",
        "    def __init__(self):\n",
        "        super().__init__()\n",
        "        self.flatten = nn.Flatten()\n",
        "        self.linear_stack= nn.Sequential(\n",
        "            nn.Linear(28*28, 128),\n",
        "            nn.ReLU(),\n",
        "            nn.Linear(128, 10),\n",
        "            nn.Softmax(dim=1)\n",
        "        )\n",
        "\n",
        "    def forward(self, x):\n",
        "        x = self.flatten(x)\n",
        "        logits = self.linear_stack(x)\n",
        "        return logits"
      ],
      "metadata": {
        "id": "jjkEIQBoMMFt"
      },
      "execution_count": null,
      "outputs": []
    },
    {
      "cell_type": "code",
      "source": [
        "model = NeuralNetwork().to(device)\n",
        "print(model)"
      ],
      "metadata": {
        "colab": {
          "base_uri": "https://localhost:8080/"
        },
        "id": "XlTve7FJOj6h",
        "outputId": "bde2b9dc-2582-4618-ad8e-9bea12eaf258"
      },
      "execution_count": null,
      "outputs": [
        {
          "output_type": "stream",
          "name": "stdout",
          "text": [
            "NeuralNetwork(\n",
            "  (flatten): Flatten(start_dim=1, end_dim=-1)\n",
            "  (linear_stack): Sequential(\n",
            "    (0): Linear(in_features=784, out_features=128, bias=True)\n",
            "    (1): ReLU()\n",
            "    (2): Linear(in_features=128, out_features=10, bias=True)\n",
            "    (3): Softmax(dim=1)\n",
            "  )\n",
            ")\n"
          ]
        }
      ]
    },
    {
      "cell_type": "code",
      "source": [
        "with torch.no_grad():\n",
        "    for param in model.parameters():\n",
        "        param.data = new_weights"
      ],
      "metadata": {
        "id": "HGqgBeJijFht"
      },
      "execution_count": null,
      "outputs": []
    },
    {
      "cell_type": "code",
      "source": [
        "learning_rate = 1e-3\n",
        "batch_size = 64\n",
        "epochs = 5"
      ],
      "metadata": {
        "id": "2nJVE_DcPS3L"
      },
      "execution_count": null,
      "outputs": []
    },
    {
      "cell_type": "code",
      "source": [
        "class ClientScaffold:\n",
        "    def __init__(self, dataloader, batchSize, model,\n",
        "                 loss, metrics, lr, optim):\n",
        "\n",
        "        self.model = model\n",
        "        self.c = self.initializeC()\n",
        "        self.cPlus = self.initializeC()\n",
        "        self.dataloader = dataloader\n",
        "        self.batch = batchSize\n",
        "        self.lr = float(lr)\n",
        "        self.loss_fn = loss\n",
        "        self.metrics = metrics\n",
        "        self.optimizer = optim\n",
        "        self.optimizer.learning_rate = self.lr\n",
        "\n",
        "\n",
        "\n",
        "    def train_loop(self, C, Global):\n",
        "      size = len(self.dataloader.dataset)#\n",
        "      # Set the model to training mode - important for batch normalization and dropout layers\n",
        "      self.model.train()#\n",
        "      for batch, (X, y) in enumerate(self.dataloader):\n",
        "        # Compute prediction and loss\n",
        "        pred = self.model(X)\n",
        "        loss = self.loss_fn(pred, y)#\n",
        "\n",
        "        # Backpropagation\n",
        "        self.loss.backward()#\n",
        "        self.optimizer.step()#\n",
        "        self.optimizer.zero_grad()#\n",
        "        i = 0\n",
        "        with torch.no_grad():\n",
        "          for param in self.model.parameters():\n",
        "              param.data = param.data + ((1 / (len(batches) * self.lr)) * \\ #\n",
        "                          (C[i] - self.c[i]))#\n",
        "              i += 1\n",
        "      weights = []\n",
        "      with torch.no_grad():\n",
        "          for param in self.model.parameters():\n",
        "              weights.append(param.data)\n",
        "\n",
        "      delta_weights = list(weights)\n",
        "      delta_C = list(self.cPlus)#\n",
        "      for i in range(0, len(weights)):\n",
        "            self.cPlus[i] = self.c[i] - C[i] + (1 / ((1 / (len(batches) * self.lr))\n",
        "                * (len(self.trainX) / self.batch))) * (Global[i] - weights[i])#\n",
        "            delta_weights[i] -= Global[i]\n",
        "            delta_C[i] = self.cPlus[i] - self.c[i]\n",
        "      self.c = list(self.cPlus)\n",
        "      return delta_weights, delta_C, size\n",
        "\n",
        "     def initializeC(self):\n",
        "        C = []\n",
        "        with torch.no_grad():\n",
        "          for param in self.model.parameters():\n",
        "              C.append(param.data)\n",
        "        for i in C:\n",
        "            i.fill_(0)\n",
        "        return C\n"
      ],
      "metadata": {
        "id": "4dyZKWoYkuhi"
      },
      "execution_count": null,
      "outputs": []
    },
    {
      "cell_type": "code",
      "source": [
        "class ClientScaffold:\n",
        "    def __init__(self, trainX, trainY, testX,\n",
        "                 testY, batchSize, model,\n",
        "                 loss, metrics, lr, optim=tf.keras.optimizers.legacy.SGD()):\n",
        "\n",
        "        self.model = model\n",
        "        self.c = self.initializeC()\n",
        "        self.cPlus = self.initializeC()\n",
        "        self.trainX = trainX\n",
        "        self.trainY = trainY\n",
        "        self.testX = testX\n",
        "        self.testY = testY\n",
        "        self.batch = batchSize\n",
        "        self.lr = float(lr)\n",
        "        self.losses = loss\n",
        "        self.metrics = metrics\n",
        "        self.optim = optim\n",
        "        self.optim.learning_rate = self.lr\n",
        "\n",
        "    def train(self, C, Global):\n",
        "        self.model.compile(optimizer=self.optim,\n",
        "                           loss=self.losses, metrics=self.metrics)\n",
        "        self.model.set_weights(Global)\n",
        "        num_batches = len(self.trainX) // self.batch\n",
        "\n",
        "        # Split the data into batches\n",
        "        batches = np.array_split(self.trainX, self.batch)\n",
        "        batchesY = np.array_split(self.trainY, self.batch)\n",
        "        remaining_data = self.trainX[num_batches * self.batch:]\n",
        "        if len(remaining_data) > 0:\n",
        "            batches.append(remaining_data)\n",
        "            batchesY.append(self.trainY[num_batches * self.batch:])\n",
        "\n",
        "        for i in range(0, len(batches)):\n",
        "            self.model.fit(\n",
        "                batches[i], batchesY[i], verbose=0\n",
        "            )\n",
        "            weights = list(self.model.get_weights())\n",
        "            for i in range(0, len(Global)):\n",
        "                weights[i] += (1 / (len(batches) * self.lr)) * \\\n",
        "                    (C[i] - self.c[i])\n",
        "            self.model.set_weights(weights)\n",
        "\n",
        "        weights = list(self.model.get_weights())\n",
        "        delta_weights = list(weights)\n",
        "        delta_C = list(self.cPlus)\n",
        "        for i in range(0, len(weights)):\n",
        "            self.cPlus[i] = self.c[i] - C[i] + (1 / ((1 / (len(batches) * self.lr))\n",
        "                                                     * (len(self.trainX) / self.batch))) * (Global[i] - weights[i])\n",
        "            delta_weights[i] -= Global[i]\n",
        "            delta_C[i] = self.cPlus[i] - self.c[i]\n",
        "        self.c = list(self.cPlus)\n",
        "\n",
        "        return delta_weights, delta_C, len(self.trainX)\n",
        "\n",
        "    def initializeC(self):\n",
        "        C = self.model.get_weights()\n",
        "        for i in C:\n",
        "            i.fill(0)\n",
        "        return C"
      ],
      "metadata": {
        "id": "Z5zy6JlZp2Ww"
      },
      "execution_count": null,
      "outputs": []
    },
    {
      "cell_type": "code",
      "source": [
        "814/814 [==============================] - 12s 14ms/step - loss: 1.8045 - categorical_accuracy: 0.4276\n",
        "Global: [1.8045024871826172, 0.42755070328712463]\n",
        "\n",
        "814/814 [==============================] - 12s 14ms/step - loss: 1.1670 - categorical_accuracy: 0.6280\n",
        "Global: [1.1669645309448242, 0.6279578804969788]\n",
        "\n",
        "814/814 [==============================] - 12s 14ms/step - loss: 0.7888 - categorical_accuracy: 0.7748\n",
        "Global: [0.7887899279594421, 0.7748156189918518]\n",
        "\n",
        "814/814 [==============================] - 12s 14ms/step - loss: 0.6863 - categorical_accuracy: 0.8100\n",
        "Global: [0.6862868070602417, 0.809964656829834]\n",
        "\n",
        "814/814 [==============================] - 12s 15ms/step - loss: 0.6541 - categorical_accuracy: 0.8232\n",
        "Global: [0.6540713906288147, 0.8232175707817078]\n",
        "\n",
        "814/814 [==============================] - 12s 15ms/step - loss: 0.6118 - categorical_accuracy: 0.8380\n",
        "Global: [0.6118459105491638, 0.8380070924758911]\n",
        "\n",
        "814/814 [==============================] - 12s 15ms/step - loss: 0.5958 - categorical_accuracy: 0.8445\n",
        "Global: [0.5958079695701599, 0.844460666179657]\n",
        "\n",
        "814/814 [==============================] - 12s 15ms/step - loss: 0.5773 - categorical_accuracy: 0.8509\n",
        "Global: [0.5773475766181946, 0.8508758544921875]\n",
        "\n",
        "814/814 [==============================] - 12s 14ms/step - loss: 0.5896 - categorical_accuracy: 0.8498\n",
        "Global: [0.5895527005195618, 0.8497618436813354]\n",
        "\n",
        "814/814 [==============================] - 12s 15ms/step - loss: 0.5688 - categorical_accuracy: 0.8578\n",
        "Global: [0.5688490271568298, 0.8577520251274109]\n",
        "\n"
      ],
      "metadata": {
        "id": "nQz9bT5HChkP"
      },
      "execution_count": null,
      "outputs": []
    }
  ],
  "metadata": {
    "colab": {
      "provenance": [],
      "gpuType": "T4"
    },
    "kernelspec": {
      "display_name": "Python 3",
      "name": "python3"
    },
    "language_info": {
      "name": "python"
    },
    "accelerator": "GPU"
  },
  "nbformat": 4,
  "nbformat_minor": 0
}